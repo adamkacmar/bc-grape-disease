{
 "cells": [
  {
   "cell_type": "code",
   "execution_count": 3,
   "metadata": {
    "ExecuteTime": {
     "end_time": "2024-10-16T06:09:57.390083500Z",
     "start_time": "2024-10-16T06:09:55.837881400Z"
    },
    "collapsed": true
   },
   "outputs": [
    {
     "name": "stdout",
     "output_type": "stream",
     "text": [
      "wire-haired fox terrier: 31.25%\n",
      "Chihuahua: 4.08%\n",
      "Australian terrier: 3.93%\n",
      "Saint Bernard, St Bernard: 3.78%\n",
      "Brittany spaniel: 3.08%\n"
     ]
    }
   ],
   "source": [
    "from transformers import AutoImageProcessor, ViTForImageClassification\n",
    "import torch\n",
    "from PIL import Image\n",
    "from datasets import load_dataset\n",
    "import torch.nn.functional as F\n",
    "\n",
    "image_path = \"catwithdog.jpg\"\n",
    "image = Image.open(image_path)\n",
    "\n",
    "image_processor = AutoImageProcessor.from_pretrained(\"google/vit-base-patch16-224\")\n",
    "model = ViTForImageClassification.from_pretrained(\"google/vit-base-patch16-224\")\n",
    "\n",
    "inputs = image_processor(image, return_tensors=\"pt\")\n",
    "\n",
    "with torch.no_grad():\n",
    "    logits = model(**inputs).logits\n",
    "\n",
    "probabilities = F.softmax(logits, dim=-1)[0]\n",
    "\n",
    "top5_prob, top5_catid = torch.topk(probabilities, 5)\n",
    "\n",
    "for i in range(top5_prob.size(0)):\n",
    "    print(f\"{model.config.id2label[top5_catid[i].item()]}: {top5_prob[i].item() * 100:.2f}%\")\n"
   ]
  }
 ],
 "metadata": {
  "kernelspec": {
   "display_name": "Python 3",
   "language": "python",
   "name": "python3"
  },
  "language_info": {
   "codemirror_mode": {
    "name": "ipython",
    "version": 2
   },
   "file_extension": ".py",
   "mimetype": "text/x-python",
   "name": "python",
   "nbconvert_exporter": "python",
   "pygments_lexer": "ipython2",
   "version": "2.7.6"
  }
 },
 "nbformat": 4,
 "nbformat_minor": 0
}
