{
 "cells": [
  {
   "cell_type": "markdown",
   "metadata": {
    "collapsed": false
   },
   "source": [
    "### Imports"
   ]
  },
  {
   "cell_type": "code",
   "execution_count": null,
   "metadata": {
    "ExecuteTime": {
     "end_time": "2024-11-04T21:54:29.148488400Z",
     "start_time": "2024-11-04T21:54:29.039120900Z"
    },
    "collapsed": true
   },
   "outputs": [],
   "source": [
    "import torch\n",
    "import torch.nn as nn\n",
    "import torch.optim as optim\n",
    "from torch.utils.data import DataLoader\n",
    "from torchvision import datasets, transforms\n",
    "from transformers import AutoImageProcessor, SwinForImageClassification\n",
    "from sklearn.metrics import accuracy_score"
   ]
  },
  {
   "cell_type": "code",
   "execution_count": null,
   "metadata": {},
   "outputs": [],
   "source": [
    "import torch\n",
    "torch.cuda.is_available(), torch.cuda.get_device_name(0)"
   ]
  },
  {
   "cell_type": "markdown",
   "metadata": {
    "collapsed": false
   },
   "source": [
    "### Hyperparameters"
   ]
  },
  {
   "cell_type": "code",
   "execution_count": null,
   "metadata": {
    "ExecuteTime": {
     "end_time": "2024-11-04T21:54:29.253129800Z",
     "start_time": "2024-11-04T21:54:29.049159Z"
    },
    "collapsed": false
   },
   "outputs": [],
   "source": [
    "batch_size = 16\n",
    "learning_rate = 1e-4\n",
    "num_epochs = 200\n",
    "save_interval = 10\n",
    "num_classes = 4"
   ]
  },
  {
   "cell_type": "code",
   "execution_count": null,
   "metadata": {},
   "outputs": [],
   "source": [
    "import wandb\n",
    "\n",
    "sweep_config = {\n",
    "    'method': 'random', \n",
    "    'metric': {'name': 'val_loss', 'goal': 'minimize'},\n",
    "    'parameters': {\n",
    "        'batch_size': {'values': [16, 32, 64]},\n",
    "        'learning_rate': {'values': [1e-5, 1e-4, 5e-4]}, \n",
    "        'num_epochs': {'value': num_epochs},  \n",
    "        'num_classes': {'value': num_classes}, \n",
    "    }\n",
    "}\n",
    "\n",
    "sweep_id = wandb.sweep(sweep_config, project=\"swinv2-bc-tuning\")"
   ]
  },
  {
   "cell_type": "markdown",
   "metadata": {
    "collapsed": false
   },
   "source": [
    "### Data Preprocessing"
   ]
  },
  {
   "cell_type": "code",
   "execution_count": null,
   "metadata": {
    "ExecuteTime": {
     "end_time": "2024-11-04T21:54:29.294202800Z",
     "start_time": "2024-11-04T21:54:29.066190200Z"
    },
    "collapsed": false
   },
   "outputs": [],
   "source": [
    "image_processor = AutoImageProcessor.from_pretrained(\"microsoft/swinv2-base-patch4-window8-256\")\n",
    "transform = transforms.Compose([\n",
    "    transforms.Resize((256, 256)),\n",
    "    transforms.ToTensor(),\n",
    "    transforms.Normalize(mean=image_processor.image_mean, std=image_processor.image_std)\n",
    "])"
   ]
  },
  {
   "cell_type": "markdown",
   "metadata": {
    "collapsed": false
   },
   "source": [
    "### Load Datasets"
   ]
  },
  {
   "cell_type": "code",
   "execution_count": null,
   "metadata": {
    "ExecuteTime": {
     "end_time": "2024-11-04T21:54:29.333102900Z",
     "start_time": "2024-11-04T21:54:29.220971800Z"
    },
    "collapsed": false
   },
   "outputs": [],
   "source": [
    "train_dataset = datasets.ImageFolder(\"dataset/train\", transform=transform)\n",
    "val_dataset = datasets.ImageFolder(\"dataset/val\", transform=transform)\n",
    "test_dataset = datasets.ImageFolder(\"dataset/test\", transform=transform)\n",
    "\n",
    "train_loader = DataLoader(train_dataset, batch_size=batch_size, shuffle=True)\n",
    "val_loader = DataLoader(val_dataset, batch_size=batch_size, shuffle=False)\n",
    "test_loader = DataLoader(test_dataset, batch_size=batch_size, shuffle=False)"
   ]
  },
  {
   "cell_type": "markdown",
   "metadata": {
    "collapsed": false
   },
   "source": [
    "### Load Pre-trained Model"
   ]
  },
  {
   "cell_type": "code",
   "execution_count": null,
   "metadata": {
    "ExecuteTime": {
     "end_time": "2024-11-04T21:54:30.837710800Z",
     "start_time": "2024-11-04T21:54:29.298736700Z"
    },
    "collapsed": false
   },
   "outputs": [],
   "source": [
    "model = SwinForImageClassification.from_pretrained(\"microsoft/swinv2-base-patch4-window8-256\", num_labels=num_classes, ignore_mismatched_sizes=True)\n",
    "model.to(\"cuda\" if torch.cuda.is_available() else \"cpu\")"
   ]
  },
  {
   "cell_type": "markdown",
   "metadata": {
    "collapsed": false
   },
   "source": [
    "### Loss and Optimizer"
   ]
  },
  {
   "cell_type": "code",
   "execution_count": null,
   "metadata": {
    "ExecuteTime": {
     "end_time": "2024-11-04T21:54:30.846836300Z",
     "start_time": "2024-11-04T21:54:30.838718900Z"
    },
    "collapsed": false
   },
   "outputs": [],
   "source": [
    "criterion = nn.CrossEntropyLoss()\n",
    "optimizer = optim.AdamW(model.parameters(), lr=sweep_config.learning_rate)"
   ]
  },
  {
   "cell_type": "markdown",
   "metadata": {
    "collapsed": false
   },
   "source": [
    "### Training Function"
   ]
  },
  {
   "cell_type": "code",
   "execution_count": 2,
   "metadata": {
    "ExecuteTime": {
     "end_time": "2024-11-04T21:54:30.910149200Z",
     "start_time": "2024-11-04T21:54:30.850350800Z"
    },
    "collapsed": false
   },
   "outputs": [],
   "source": [
    "def train(model, train_loader, criterion, optimizer):\n",
    "    model.train()\n",
    "    total_loss = 0\n",
    "    for images, labels in train_loader:\n",
    "        images, labels = images.to(device), labels.to(device)\n",
    "\n",
    "        optimizer.zero_grad()\n",
    "        outputs = model(images).logits\n",
    "        print(f\"Image batch shape: {images.shape}\")\n",
    "        print(f\"Model output shape: {outputs.shape}\")\n",
    "        loss = criterion(outputs, labels)\n",
    "        loss.backward()\n",
    "        optimizer.step()\n",
    "\n",
    "        total_loss += loss.item()\n",
    "    \n",
    "    avg_loss = total_loss / len(train_loader)\n",
    "    wandb.log({\"train_loss\": avg_loss})\n",
    "    return total_loss / len(train_loader)"
   ]
  },
  {
   "cell_type": "markdown",
   "metadata": {
    "collapsed": false
   },
   "source": [
    "### Validation Function"
   ]
  },
  {
   "cell_type": "code",
   "execution_count": null,
   "metadata": {
    "ExecuteTime": {
     "end_time": "2024-11-04T21:54:30.934602400Z",
     "start_time": "2024-11-04T21:54:30.858063Z"
    },
    "collapsed": false
   },
   "outputs": [],
   "source": [
    "def validate(model, val_loader, criterion):\n",
    "    model.eval()\n",
    "    total_loss = 0\n",
    "    all_preds = []\n",
    "    all_labels = []\n",
    "    with torch.no_grad():\n",
    "        for images, labels in val_loader:\n",
    "            images, labels = images.to(device), labels.to(device)\n",
    "            outputs = model(images).logits\n",
    "            loss = criterion(outputs, labels)\n",
    "            total_loss += loss.item()\n",
    "\n",
    "            preds = torch.argmax(outputs, dim=1)\n",
    "            all_preds.extend(preds.cpu().numpy())\n",
    "            all_labels.extend(labels.cpu().numpy())\n",
    "\n",
    "    accuracy = accuracy_score(all_labels, all_preds)\n",
    "    avg_loss = total_loss / len(val_loader)\n",
    "    wandb.log({\"val_loss\": avg_loss, \"val_accuracy\": accuracy})\n",
    "    return total_loss / len(val_loader), accuracy"
   ]
  },
  {
   "cell_type": "markdown",
   "metadata": {
    "collapsed": false
   },
   "source": [
    "### Training and Validation Loop"
   ]
  },
  {
   "cell_type": "code",
   "execution_count": null,
   "metadata": {
    "ExecuteTime": {
     "end_time": "2024-11-04T22:02:03.956371200Z",
     "start_time": "2024-11-04T21:54:30.872365200Z"
    },
    "collapsed": false
   },
   "outputs": [
    {
     "name": "stdout",
     "output_type": "stream",
     "text": [
      "Image batch shape: torch.Size([16, 3, 256, 256])\n",
      "Model output shape: torch.Size([16, 4])\n",
      "Image batch shape: torch.Size([16, 3, 256, 256])\n",
      "Model output shape: torch.Size([16, 4])\n",
      "Image batch shape: torch.Size([16, 3, 256, 256])\n",
      "Model output shape: torch.Size([16, 4])\n",
      "Image batch shape: torch.Size([16, 3, 256, 256])\n",
      "Model output shape: torch.Size([16, 4])\n",
      "Image batch shape: torch.Size([16, 3, 256, 256])\n",
      "Model output shape: torch.Size([16, 4])\n",
      "Image batch shape: torch.Size([16, 3, 256, 256])\n",
      "Model output shape: torch.Size([16, 4])\n",
      "Image batch shape: torch.Size([16, 3, 256, 256])\n",
      "Model output shape: torch.Size([16, 4])\n",
      "Image batch shape: torch.Size([16, 3, 256, 256])\n",
      "Model output shape: torch.Size([16, 4])\n",
      "Image batch shape: torch.Size([16, 3, 256, 256])\n",
      "Model output shape: torch.Size([16, 4])\n",
      "Image batch shape: torch.Size([16, 3, 256, 256])\n",
      "Model output shape: torch.Size([16, 4])\n",
      "Image batch shape: torch.Size([16, 3, 256, 256])\n",
      "Model output shape: torch.Size([16, 4])\n",
      "Image batch shape: torch.Size([16, 3, 256, 256])\n",
      "Model output shape: torch.Size([16, 4])\n",
      "Image batch shape: torch.Size([16, 3, 256, 256])\n",
      "Model output shape: torch.Size([16, 4])\n",
      "Image batch shape: torch.Size([16, 3, 256, 256])\n",
      "Model output shape: torch.Size([16, 4])\n",
      "Image batch shape: torch.Size([16, 3, 256, 256])\n",
      "Model output shape: torch.Size([16, 4])\n",
      "Image batch shape: torch.Size([16, 3, 256, 256])\n",
      "Model output shape: torch.Size([16, 4])\n",
      "Image batch shape: torch.Size([16, 3, 256, 256])\n",
      "Model output shape: torch.Size([16, 4])\n",
      "Image batch shape: torch.Size([16, 3, 256, 256])\n",
      "Model output shape: torch.Size([16, 4])\n",
      "Image batch shape: torch.Size([16, 3, 256, 256])\n",
      "Model output shape: torch.Size([16, 4])\n",
      "Image batch shape: torch.Size([16, 3, 256, 256])\n",
      "Model output shape: torch.Size([16, 4])\n",
      "Image batch shape: torch.Size([16, 3, 256, 256])\n",
      "Model output shape: torch.Size([16, 4])\n",
      "Image batch shape: torch.Size([16, 3, 256, 256])\n",
      "Model output shape: torch.Size([16, 4])\n",
      "Image batch shape: torch.Size([16, 3, 256, 256])\n",
      "Model output shape: torch.Size([16, 4])\n",
      "Image batch shape: torch.Size([16, 3, 256, 256])\n",
      "Model output shape: torch.Size([16, 4])\n",
      "Image batch shape: torch.Size([16, 3, 256, 256])\n",
      "Model output shape: torch.Size([16, 4])\n",
      "Image batch shape: torch.Size([16, 3, 256, 256])\n",
      "Model output shape: torch.Size([16, 4])\n",
      "Image batch shape: torch.Size([16, 3, 256, 256])\n",
      "Model output shape: torch.Size([16, 4])\n",
      "Image batch shape: torch.Size([16, 3, 256, 256])\n",
      "Model output shape: torch.Size([16, 4])\n",
      "Image batch shape: torch.Size([16, 3, 256, 256])\n",
      "Model output shape: torch.Size([16, 4])\n",
      "Image batch shape: torch.Size([16, 3, 256, 256])\n",
      "Model output shape: torch.Size([16, 4])\n",
      "Image batch shape: torch.Size([16, 3, 256, 256])\n",
      "Model output shape: torch.Size([16, 4])\n",
      "Image batch shape: torch.Size([16, 3, 256, 256])\n",
      "Model output shape: torch.Size([16, 4])\n",
      "Image batch shape: torch.Size([16, 3, 256, 256])\n",
      "Model output shape: torch.Size([16, 4])\n",
      "Image batch shape: torch.Size([16, 3, 256, 256])\n",
      "Model output shape: torch.Size([16, 4])\n",
      "Image batch shape: torch.Size([16, 3, 256, 256])\n",
      "Model output shape: torch.Size([16, 4])\n",
      "Image batch shape: torch.Size([16, 3, 256, 256])\n",
      "Model output shape: torch.Size([16, 4])\n",
      "Image batch shape: torch.Size([16, 3, 256, 256])\n",
      "Model output shape: torch.Size([16, 4])\n",
      "Image batch shape: torch.Size([16, 3, 256, 256])\n",
      "Model output shape: torch.Size([16, 4])\n",
      "Image batch shape: torch.Size([16, 3, 256, 256])\n",
      "Model output shape: torch.Size([16, 4])\n",
      "Image batch shape: torch.Size([16, 3, 256, 256])\n",
      "Model output shape: torch.Size([16, 4])\n",
      "Image batch shape: torch.Size([16, 3, 256, 256])\n",
      "Model output shape: torch.Size([16, 4])\n",
      "Image batch shape: torch.Size([16, 3, 256, 256])\n",
      "Model output shape: torch.Size([16, 4])\n",
      "Image batch shape: torch.Size([16, 3, 256, 256])\n",
      "Model output shape: torch.Size([16, 4])\n",
      "Image batch shape: torch.Size([16, 3, 256, 256])\n",
      "Model output shape: torch.Size([16, 4])\n",
      "Image batch shape: torch.Size([16, 3, 256, 256])\n",
      "Model output shape: torch.Size([16, 4])\n",
      "Image batch shape: torch.Size([16, 3, 256, 256])\n",
      "Model output shape: torch.Size([16, 4])\n",
      "Image batch shape: torch.Size([16, 3, 256, 256])\n",
      "Model output shape: torch.Size([16, 4])\n",
      "Image batch shape: torch.Size([16, 3, 256, 256])\n",
      "Model output shape: torch.Size([16, 4])\n",
      "Image batch shape: torch.Size([16, 3, 256, 256])\n",
      "Model output shape: torch.Size([16, 4])\n",
      "Image batch shape: torch.Size([16, 3, 256, 256])\n",
      "Model output shape: torch.Size([16, 4])\n",
      "Image batch shape: torch.Size([16, 3, 256, 256])\n",
      "Model output shape: torch.Size([16, 4])\n",
      "Image batch shape: torch.Size([16, 3, 256, 256])\n",
      "Model output shape: torch.Size([16, 4])\n",
      "Image batch shape: torch.Size([16, 3, 256, 256])\n",
      "Model output shape: torch.Size([16, 4])\n",
      "Image batch shape: torch.Size([16, 3, 256, 256])\n",
      "Model output shape: torch.Size([16, 4])\n",
      "Image batch shape: torch.Size([16, 3, 256, 256])\n",
      "Model output shape: torch.Size([16, 4])\n",
      "Image batch shape: torch.Size([16, 3, 256, 256])\n",
      "Model output shape: torch.Size([16, 4])\n",
      "Image batch shape: torch.Size([16, 3, 256, 256])\n",
      "Model output shape: torch.Size([16, 4])\n",
      "Image batch shape: torch.Size([16, 3, 256, 256])\n",
      "Model output shape: torch.Size([16, 4])\n",
      "Image batch shape: torch.Size([16, 3, 256, 256])\n",
      "Model output shape: torch.Size([16, 4])\n",
      "Image batch shape: torch.Size([16, 3, 256, 256])\n",
      "Model output shape: torch.Size([16, 4])\n",
      "Image batch shape: torch.Size([16, 3, 256, 256])\n",
      "Model output shape: torch.Size([16, 4])\n",
      "Image batch shape: torch.Size([16, 3, 256, 256])\n",
      "Model output shape: torch.Size([16, 4])\n",
      "Image batch shape: torch.Size([16, 3, 256, 256])\n",
      "Model output shape: torch.Size([16, 4])\n",
      "Image batch shape: torch.Size([16, 3, 256, 256])\n",
      "Model output shape: torch.Size([16, 4])\n",
      "Image batch shape: torch.Size([16, 3, 256, 256])\n",
      "Model output shape: torch.Size([16, 4])\n",
      "Image batch shape: torch.Size([16, 3, 256, 256])\n",
      "Model output shape: torch.Size([16, 4])\n",
      "Image batch shape: torch.Size([16, 3, 256, 256])\n",
      "Model output shape: torch.Size([16, 4])\n"
     ]
    }
   ],
   "source": [
    "import os\n",
    "\n",
    "os.makedirs('models', exist_ok=True)\n",
    "\n",
    "device = \"cuda\" if torch.cuda.is_available() else \"cpu\"\n",
    "for epoch in range(num_epochs):\n",
    "    train_loss = train(model, train_loader, criterion, optimizer)\n",
    "    val_loss, val_accuracy = validate(model, val_loader, criterion)\n",
    "    # Removed validation step\n",
    "    print(f\"Epoch {epoch+1}/{num_epochs}, Train Loss: {train_loss:.4f}\")\n",
    "    wandb.log({'epoch': epoch+1})\n",
    "    if (epoch + 1) % 10 == 0:\n",
    "        torch.save(model.state_dict(), f'models-base/model_lr{config.learning_rate}_bs{config.batch_size}.pth')\n",
    "        print(f\"Model saved at {model_path}\")\n"
   ]
  },
  {
   "cell_type": "markdown",
   "metadata": {
    "collapsed": false
   },
   "source": [
    "### Evaluate on Test Set"
   ]
  },
  {
   "cell_type": "code",
   "execution_count": 1,
   "metadata": {
    "collapsed": false
   },
   "outputs": [
    {
     "ename": "NameError",
     "evalue": "name 'model' is not defined",
     "output_type": "error",
     "traceback": [
      "\u001b[1;31m---------------------------------------------------------------------------\u001b[0m",
      "\u001b[1;31mNameError\u001b[0m                                 Traceback (most recent call last)",
      "Cell \u001b[1;32mIn[1], line 1\u001b[0m\n\u001b[1;32m----> 1\u001b[0m \u001b[43mmodel\u001b[49m\u001b[38;5;241m.\u001b[39meval()\n\u001b[0;32m      2\u001b[0m all_preds \u001b[38;5;241m=\u001b[39m []\n\u001b[0;32m      3\u001b[0m all_labels \u001b[38;5;241m=\u001b[39m []\n",
      "\u001b[1;31mNameError\u001b[0m: name 'model' is not defined"
     ]
    }
   ],
   "source": [
    "model.eval()\n",
    "all_preds = []\n",
    "all_labels = []\n",
    "with torch.no_grad():\n",
    "    for images, labels in test_loader:\n",
    "        images, labels = images.to(device), labels.to(device)\n",
    "        outputs = model(images).logits\n",
    "        preds = torch.argmax(outputs, dim=1)\n",
    "        all_preds.extend(preds.cpu().numpy())\n",
    "        all_labels.extend(labels.cpu().numpy())\n",
    "\n",
    "test_accuracy = accuracy_score(all_labels, all_preds)\n",
    "print(f\"Test Accuracy: {test_accuracy:.4f}\")"
   ]
  }
 ],
 "metadata": {
  "kernelspec": {
   "display_name": "env",
   "language": "python",
   "name": "python3"
  },
  "language_info": {
   "codemirror_mode": {
    "name": "ipython",
    "version": 3
   },
   "file_extension": ".py",
   "mimetype": "text/x-python",
   "name": "python",
   "nbconvert_exporter": "python",
   "pygments_lexer": "ipython3",
   "version": "3.12.9"
  }
 },
 "nbformat": 4,
 "nbformat_minor": 0
}
