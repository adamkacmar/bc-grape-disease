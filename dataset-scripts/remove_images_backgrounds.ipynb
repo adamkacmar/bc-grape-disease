{
 "cells": [
  {
   "cell_type": "markdown",
   "source": [
    "### Imports"
   ],
   "metadata": {
    "collapsed": false
   }
  },
  {
   "cell_type": "code",
   "execution_count": 9,
   "outputs": [],
   "source": [
    "import os\n",
    "import cv2\n",
    "from rembg import remove as rembg_remove"
   ],
   "metadata": {
    "collapsed": false,
    "ExecuteTime": {
     "end_time": "2025-04-10T10:44:48.000410600Z",
     "start_time": "2025-04-10T10:44:47.980292700Z"
    }
   }
  },
  {
   "cell_type": "markdown",
   "source": [
    "### Global Variables"
   ],
   "metadata": {
    "collapsed": false
   }
  },
  {
   "cell_type": "code",
   "execution_count": 16,
   "outputs": [],
   "source": [
    "SOURCE_DIR = \"../assets/dataset\"\n",
    "TARGET_DIR = \"../assets/dataset_bg_removed\"\n",
    "DATASETS = [\"train\", \"test\"]\n",
    "CLASSES = [\"Black Rot\", \"ESCA\", \"Healthy\", \"Leaf Blight\"]"
   ],
   "metadata": {
    "collapsed": false,
    "ExecuteTime": {
     "end_time": "2025-04-10T10:46:56.319090700Z",
     "start_time": "2025-04-10T10:46:56.300715300Z"
    }
   }
  },
  {
   "cell_type": "markdown",
   "source": [
    "### Functions"
   ],
   "metadata": {
    "collapsed": false
   }
  },
  {
   "cell_type": "code",
   "execution_count": 17,
   "outputs": [],
   "source": [
    "def save_bg_removed(src_path, dst_path):\n",
    "    image = cv2.imread(src_path)\n",
    "    if image is None:\n",
    "        print(f\"Failed to load: {src_path}\")\n",
    "        return\n",
    "    result = rembg_remove(image)\n",
    "    os.makedirs(os.path.dirname(dst_path), exist_ok=True)\n",
    "    cv2.imwrite(dst_path, result)\n",
    "    print(f\"Saved: {dst_path}\")"
   ],
   "metadata": {
    "collapsed": false,
    "ExecuteTime": {
     "end_time": "2025-04-10T10:46:59.133802200Z",
     "start_time": "2025-04-10T10:46:59.127437800Z"
    }
   }
  },
  {
   "cell_type": "code",
   "execution_count": 18,
   "outputs": [
    {
     "name": "stdout",
     "output_type": "stream",
     "text": [
      "Saved: ../assets/dataset_bg_removed/train/Black Rot/00090b0f-c140-4e77-8d20-d39f67b75fcc___FAM_B.Rot 0376_flipLR.JPG\n",
      "Saved: ../assets/dataset_bg_removed/train/Black Rot/003d09ef-e16c-4e8a-badf-847d46cb3dc0___FAM_B.Rot 3184_flipLR.JPG\n",
      "Saved: ../assets/dataset_bg_removed/train/Black Rot/004175d8-dc74-4285-8401-3cc9565730bb___FAM_B.Rot 0626.JPG\n",
      "Saved: ../assets/dataset_bg_removed/train/Black Rot/004175d8-dc74-4285-8401-3cc9565730bb___FAM_B.Rot 0626_flipLR.JPG\n",
      "Saved: ../assets/dataset_bg_removed/train/Black Rot/006efc68-9e46-4168-921c-10ef8065702c___FAM_B.Rot 3470.JPG\n",
      "Saved: ../assets/dataset_bg_removed/train/Black Rot/006efc68-9e46-4168-921c-10ef8065702c___FAM_B.Rot 3470_flipLR.JPG\n",
      "Saved: ../assets/dataset_bg_removed/train/Black Rot/00905d40-bddf-460e-b348-1dbb6a34653b___FAM_B.Rot 0664_flipLR.JPG\n",
      "Saved: ../assets/dataset_bg_removed/train/Black Rot/0093ee81-2439-414c-bfb5-a5b6cd6aea72___FAM_B.Rot 3429.JPG\n",
      "Saved: ../assets/dataset_bg_removed/train/Black Rot/00cab05d-e87b-4cf6-87d8-284f3ec99626___FAM_B.Rot 3244.JPG\n",
      "Saved: ../assets/dataset_bg_removed/train/Black Rot/00cab05d-e87b-4cf6-87d8-284f3ec99626___FAM_B.Rot 3244_flipLR.JPG\n",
      "Saved: ../assets/dataset_bg_removed/train/Black Rot/00cff577-afd4-4e36-ac9c-a52aa6ae5949___FAM_B.Rot 0508.JPG\n",
      "Saved: ../assets/dataset_bg_removed/train/Black Rot/00cff577-afd4-4e36-ac9c-a52aa6ae5949___FAM_B.Rot 0508_flipLR.JPG\n",
      "Saved: ../assets/dataset_bg_removed/train/Black Rot/012658ed-f0a3-4791-a996-7115dd1e6e3b___FAM_B.Rot 3036.JPG\n",
      "Saved: ../assets/dataset_bg_removed/train/Black Rot/012658ed-f0a3-4791-a996-7115dd1e6e3b___FAM_B.Rot 3036_flipLR.JPG\n",
      "Saved: ../assets/dataset_bg_removed/train/Black Rot/017268b1-c25c-4299-a566-1b7ba3f1591e___FAM_B.Rot 3014.JPG\n",
      "Saved: ../assets/dataset_bg_removed/train/Black Rot/017268b1-c25c-4299-a566-1b7ba3f1591e___FAM_B.Rot 3014_flipLR.JPG\n",
      "Saved: ../assets/dataset_bg_removed/train/Black Rot/01d4aa8b-cc91-4475-b80c-b5b0ca10f1f6___FAM_B.Rot 3050.JPG\n",
      "Saved: ../assets/dataset_bg_removed/train/Black Rot/01d4aa8b-cc91-4475-b80c-b5b0ca10f1f6___FAM_B.Rot 3050_flipLR.JPG\n",
      "Saved: ../assets/dataset_bg_removed/train/Black Rot/02a1df6c-97ec-41d4-b00c-9510741a39dc___FAM_B.Rot 0552.JPG\n",
      "Saved: ../assets/dataset_bg_removed/train/Black Rot/02c0e019-97c2-48f5-ac40-90b8789e6288___FAM_B.Rot 0753.JPG\n",
      "Saved: ../assets/dataset_bg_removed/train/Black Rot/02c0e019-97c2-48f5-ac40-90b8789e6288___FAM_B.Rot 0753_flipLR.JPG\n",
      "Saved: ../assets/dataset_bg_removed/train/Black Rot/02e135dd-a02e-40a5-a049-4b5fa978445c___FAM_B.Rot 3063.JPG\n",
      "Saved: ../assets/dataset_bg_removed/train/Black Rot/02f75392-dbad-4ab8-a35d-d391f9d57113___FAM_B.Rot 3323.JPG\n",
      "Saved: ../assets/dataset_bg_removed/train/Black Rot/02f75392-dbad-4ab8-a35d-d391f9d57113___FAM_B.Rot 3323_flipLR.JPG\n",
      "Saved: ../assets/dataset_bg_removed/train/Black Rot/03423777-68b9-430e-9787-fbd776740881___FAM_B.Rot 0346.JPG\n",
      "Saved: ../assets/dataset_bg_removed/train/Black Rot/035ed95e-9c14-4096-8dce-21ae0970c6b6___FAM_B.Rot 3175.JPG\n",
      "Saved: ../assets/dataset_bg_removed/train/Black Rot/035ed95e-9c14-4096-8dce-21ae0970c6b6___FAM_B.Rot 3175_flipLR.JPG\n",
      "Saved: ../assets/dataset_bg_removed/train/Black Rot/03663632-d350-4f00-92f3-ca6ac2639b22___FAM_B.Rot 5102.JPG\n",
      "Saved: ../assets/dataset_bg_removed/train/Black Rot/03663632-d350-4f00-92f3-ca6ac2639b22___FAM_B.Rot 5102_flipLR.JPG\n",
      "Saved: ../assets/dataset_bg_removed/train/Black Rot/03a8e589-18ca-4596-8db7-ff1efe9b3b05___FAM_B.Rot 0755_flipLR.JPG\n",
      "Saved: ../assets/dataset_bg_removed/train/Black Rot/03aa3aee-2a42-459d-8fa1-39d88e8a5ced___FAM_B.Rot 3487.JPG\n",
      "Saved: ../assets/dataset_bg_removed/train/Black Rot/03aa3aee-2a42-459d-8fa1-39d88e8a5ced___FAM_B.Rot 3487_flipLR.JPG\n",
      "Saved: ../assets/dataset_bg_removed/train/Black Rot/0434878b-1f52-496a-87c6-58647824ee2d___FAM_B.Rot 5035_flipLR.JPG\n",
      "Saved: ../assets/dataset_bg_removed/train/Black Rot/045e07eb-5005-4943-90f2-bd62525b1076___FAM_B.Rot 3524.JPG\n",
      "Saved: ../assets/dataset_bg_removed/train/Black Rot/045e07eb-5005-4943-90f2-bd62525b1076___FAM_B.Rot 3524_flipLR.JPG\n",
      "Saved: ../assets/dataset_bg_removed/train/Black Rot/04801745-9457-41fa-97c6-7c9aa769564d___FAM_B.Rot 0367.JPG\n",
      "Saved: ../assets/dataset_bg_removed/train/Black Rot/04801745-9457-41fa-97c6-7c9aa769564d___FAM_B.Rot 0367_flipLR.JPG\n",
      "Saved: ../assets/dataset_bg_removed/train/Black Rot/04af92d1-7da1-49a8-aba6-f7110b52a90f___FAM_B.Rot 3546.JPG\n",
      "Saved: ../assets/dataset_bg_removed/train/Black Rot/04af92d1-7da1-49a8-aba6-f7110b52a90f___FAM_B.Rot 3546_flipLR.JPG\n",
      "Saved: ../assets/dataset_bg_removed/train/Black Rot/04e6bfe5-ccc3-4888-87bb-780035a243e1___FAM_B.Rot 0577_flipLR.JPG\n",
      "Saved: ../assets/dataset_bg_removed/train/Black Rot/04f22aa8-7ef0-4cce-8708-394e97a328b1___FAM_B.Rot 3391.JPG\n",
      "Saved: ../assets/dataset_bg_removed/train/Black Rot/04f22aa8-7ef0-4cce-8708-394e97a328b1___FAM_B.Rot 3391_flipLR.JPG\n",
      "Saved: ../assets/dataset_bg_removed/train/Black Rot/0563d959-cdc8-4e5f-be50-aff6238218be___FAM_B.Rot 3600.JPG\n",
      "Saved: ../assets/dataset_bg_removed/train/Black Rot/058433ea-b746-42b9-9d69-019a17ddf1a3___FAM_B.Rot 3486.JPG\n",
      "Saved: ../assets/dataset_bg_removed/train/Black Rot/05ca939c-220f-4ad0-a4be-a1de75a99034___FAM_B.Rot 0613.JPG\n",
      "Saved: ../assets/dataset_bg_removed/train/Black Rot/05f8c04d-9275-4ceb-99d9-42ba43ca5ec1___FAM_B.Rot 0502.JPG\n",
      "Saved: ../assets/dataset_bg_removed/train/Black Rot/05f8c04d-9275-4ceb-99d9-42ba43ca5ec1___FAM_B.Rot 0502_flipLR.JPG\n",
      "Saved: ../assets/dataset_bg_removed/train/Black Rot/06316202-5637-41f1-baf7-6d41b9af3cab___FAM_B.Rot 3591.JPG\n",
      "Saved: ../assets/dataset_bg_removed/train/Black Rot/06316202-5637-41f1-baf7-6d41b9af3cab___FAM_B.Rot 3591_flipLR.JPG\n",
      "Saved: ../assets/dataset_bg_removed/train/Black Rot/06334f9c-abb5-4ded-b731-3588a818ec85___FAM_B.Rot 3497.JPG\n",
      "Saved: ../assets/dataset_bg_removed/train/Black Rot/06710c68-b3c8-4c7b-832c-5bec4aeb8417___FAM_B.Rot 0436.JPG\n",
      "Saved: ../assets/dataset_bg_removed/train/Black Rot/06710c68-b3c8-4c7b-832c-5bec4aeb8417___FAM_B.Rot 0436_flipLR.JPG\n",
      "Saved: ../assets/dataset_bg_removed/train/Black Rot/0679fd57-9695-4627-9825-b0a55cdfa84b___FAM_B.Rot 0451.JPG\n",
      "Saved: ../assets/dataset_bg_removed/train/Black Rot/0679fd57-9695-4627-9825-b0a55cdfa84b___FAM_B.Rot 0451_flipLR.JPG\n",
      "Saved: ../assets/dataset_bg_removed/train/Black Rot/06ca4e74-f852-4ee1-8100-2c88eccdf450___FAM_B.Rot 0585.JPG\n",
      "Saved: ../assets/dataset_bg_removed/train/Black Rot/06ca4e74-f852-4ee1-8100-2c88eccdf450___FAM_B.Rot 0585_flipLR.JPG\n",
      "Saved: ../assets/dataset_bg_removed/train/Black Rot/06fde815-e82e-42b1-acb6-c097f126fb9b___FAM_B.Rot 0628.JPG\n",
      "Saved: ../assets/dataset_bg_removed/train/Black Rot/06fde815-e82e-42b1-acb6-c097f126fb9b___FAM_B.Rot 0628_flipLR.JPG\n",
      "Saved: ../assets/dataset_bg_removed/train/Black Rot/07e911cc-751d-4e1e-ada5-2c363938b213___FAM_B.Rot 3619.JPG\n",
      "Saved: ../assets/dataset_bg_removed/train/Black Rot/08a5a9c9-6676-4125-8738-535d6479084a___FAM_B.Rot 5049.JPG\n",
      "Saved: ../assets/dataset_bg_removed/train/Black Rot/08a5a9c9-6676-4125-8738-535d6479084a___FAM_B.Rot 5049_flipLR.JPG\n",
      "Saved: ../assets/dataset_bg_removed/train/Black Rot/08a7300a-1e67-4441-9521-9168d47cd665___FAM_B.Rot 3020.JPG\n",
      "Saved: ../assets/dataset_bg_removed/train/Black Rot/0915201b-3e53-41e6-a9af-e3ae47754111___FAM_B.Rot 0411_flipLR.JPG\n",
      "Saved: ../assets/dataset_bg_removed/train/Black Rot/091e0447-d502-43e2-a871-60251ad954ad___FAM_B.Rot 0486.JPG\n",
      "Saved: ../assets/dataset_bg_removed/train/Black Rot/091e0447-d502-43e2-a871-60251ad954ad___FAM_B.Rot 0486_flipLR.JPG\n",
      "Saved: ../assets/dataset_bg_removed/train/Black Rot/0959dfd7-a6af-4e43-b99e-b248e7b3b2eb___FAM_B.Rot 5039_flipLR.JPG\n",
      "Saved: ../assets/dataset_bg_removed/train/Black Rot/0968fd6a-7b51-4f22-811c-865284317412___FAM_B.Rot 3568.JPG\n",
      "Saved: ../assets/dataset_bg_removed/train/Black Rot/0968fd6a-7b51-4f22-811c-865284317412___FAM_B.Rot 3568_flipLR.JPG\n",
      "Saved: ../assets/dataset_bg_removed/train/Black Rot/09cfe515-118c-475d-9f94-de565f56eb69___FAM_B.Rot 0360.JPG\n",
      "Saved: ../assets/dataset_bg_removed/train/Black Rot/09cfe515-118c-475d-9f94-de565f56eb69___FAM_B.Rot 0360_flipLR.JPG\n",
      "Saved: ../assets/dataset_bg_removed/train/Black Rot/09e87756-a12b-47fe-830d-fe1eddb42cae___FAM_B.Rot 0449.JPG\n",
      "Saved: ../assets/dataset_bg_removed/train/Black Rot/09e87756-a12b-47fe-830d-fe1eddb42cae___FAM_B.Rot 0449_flipLR.JPG\n",
      "Saved: ../assets/dataset_bg_removed/train/Black Rot/0a06c482-c94a-44d8-a895-be6fe17b8c06___FAM_B.Rot 5019.JPG\n",
      "Saved: ../assets/dataset_bg_removed/train/Black Rot/0a06c482-c94a-44d8-a895-be6fe17b8c06___FAM_B.Rot 5019_flipLR.JPG\n",
      "Saved: ../assets/dataset_bg_removed/train/Black Rot/0a274d5f-9705-445d-a580-a887447ec353___FAM_B.Rot 3147.JPG\n",
      "Saved: ../assets/dataset_bg_removed/train/Black Rot/0a274d5f-9705-445d-a580-a887447ec353___FAM_B.Rot 3147_flipLR.JPG\n",
      "Saved: ../assets/dataset_bg_removed/train/Black Rot/0a31549c-8adb-4acc-bab2-a0954f063054___FAM_B.Rot 0687.JPG\n",
      "Saved: ../assets/dataset_bg_removed/train/Black Rot/0a31549c-8adb-4acc-bab2-a0954f063054___FAM_B.Rot 0687_flipLR.JPG\n",
      "Saved: ../assets/dataset_bg_removed/train/Black Rot/0abb363c-2365-4816-a6c4-ce4bac6ffc38___FAM_B.Rot 3122.JPG\n",
      "Saved: ../assets/dataset_bg_removed/train/Black Rot/0abb363c-2365-4816-a6c4-ce4bac6ffc38___FAM_B.Rot 3122_flipLR.JPG\n",
      "Saved: ../assets/dataset_bg_removed/train/Black Rot/0aec6325-48be-4373-886d-fff5aeea6d26___FAM_B.Rot 3465.JPG\n",
      "Saved: ../assets/dataset_bg_removed/train/Black Rot/0aec6325-48be-4373-886d-fff5aeea6d26___FAM_B.Rot 3465_flipLR.JPG\n",
      "Saved: ../assets/dataset_bg_removed/train/Black Rot/0aff8add-93ad-4099-97ae-23515744e620___FAM_B.Rot 0748.JPG\n",
      "Saved: ../assets/dataset_bg_removed/train/Black Rot/0b11ac6a-9e24-4d9c-bbe9-e180eb81ff38___FAM_B.Rot 0581_flipLR.JPG\n",
      "Saved: ../assets/dataset_bg_removed/train/Black Rot/0b9d95bb-51c7-40f1-8a4b-f9838becb418___FAM_B.Rot 0493.JPG\n",
      "Saved: ../assets/dataset_bg_removed/train/Black Rot/0b9d95bb-51c7-40f1-8a4b-f9838becb418___FAM_B.Rot 0493_flipLR.JPG\n",
      "Saved: ../assets/dataset_bg_removed/train/Black Rot/0baabe1e-b188-4c55-8f61-0f484f90c73b___FAM_B.Rot 3532.JPG\n",
      "Saved: ../assets/dataset_bg_removed/train/Black Rot/0bfeae5e-878a-45ac-b62c-fbdfa9577874___FAM_B.Rot 0501.JPG\n",
      "Saved: ../assets/dataset_bg_removed/train/Black Rot/0bfeae5e-878a-45ac-b62c-fbdfa9577874___FAM_B.Rot 0501_flipLR.JPG\n",
      "Saved: ../assets/dataset_bg_removed/train/Black Rot/0c7369b1-b8f1-4287-8875-fef5f1a5b3ac___FAM_B.Rot 3156.JPG\n",
      "Saved: ../assets/dataset_bg_removed/train/Black Rot/0c7369b1-b8f1-4287-8875-fef5f1a5b3ac___FAM_B.Rot 3156_flipLR.JPG\n",
      "Saved: ../assets/dataset_bg_removed/train/Black Rot/0c9800f1-95a1-4ebb-a098-5fb51af0581b___FAM_B.Rot 3208.JPG\n",
      "Saved: ../assets/dataset_bg_removed/train/Black Rot/0c9800f1-95a1-4ebb-a098-5fb51af0581b___FAM_B.Rot 3208_flipLR.JPG\n",
      "Saved: ../assets/dataset_bg_removed/train/Black Rot/0cb269dc-10d1-45e6-b0d3-f96572fce674___FAM_B.Rot 5052_flipLR.JPG\n",
      "Saved: ../assets/dataset_bg_removed/train/Black Rot/0cf5d61f-fb1a-4533-b0aa-f174d2acdc82___FAM_B.Rot 0721.JPG\n",
      "Saved: ../assets/dataset_bg_removed/train/Black Rot/0cf5d61f-fb1a-4533-b0aa-f174d2acdc82___FAM_B.Rot 0721_flipLR.JPG\n",
      "Saved: ../assets/dataset_bg_removed/train/Black Rot/0d2c5ad5-1a2d-44f9-9be5-1aef9a51fb95___FAM_B.Rot 3469_flipLR.JPG\n",
      "Saved: ../assets/dataset_bg_removed/train/Black Rot/0d907173-6ef8-4fbd-b682-f0a7a5263de0___FAM_B.Rot 3298.JPG\n",
      "Saved: ../assets/dataset_bg_removed/train/Black Rot/0d907173-6ef8-4fbd-b682-f0a7a5263de0___FAM_B.Rot 3298_flipLR.JPG\n",
      "Saved: ../assets/dataset_bg_removed/train/Black Rot/0daaeb93-868a-4649-be74-19aa2b231f90___FAM_B.Rot 0739_flipLR.JPG\n",
      "Saved: ../assets/dataset_bg_removed/train/Black Rot/0dad85ca-3b63-412d-bdf0-9cef2457e390___FAM_B.Rot 3218_flipLR.JPG\n",
      "Saved: ../assets/dataset_bg_removed/train/Black Rot/0e143d33-adc0-41af-92e2-d0bb712d7b72___FAM_B.Rot 5047.JPG\n",
      "Saved: ../assets/dataset_bg_removed/train/Black Rot/0e143d33-adc0-41af-92e2-d0bb712d7b72___FAM_B.Rot 5047_flipLR.JPG\n",
      "Saved: ../assets/dataset_bg_removed/train/Black Rot/0e7726c0-a309-4194-b2e6-d0e33af39373___FAM_B.Rot 0530_flipLR.JPG\n"
     ]
    },
    {
     "ename": "KeyboardInterrupt",
     "evalue": "",
     "output_type": "error",
     "traceback": [
      "\u001B[1;31m---------------------------------------------------------------------------\u001B[0m",
      "\u001B[1;31mKeyboardInterrupt\u001B[0m                         Traceback (most recent call last)",
      "Cell \u001B[1;32mIn[18], line 15\u001B[0m\n\u001B[0;32m     12\u001B[0m src_path \u001B[38;5;241m=\u001B[39m \u001B[38;5;124mf\u001B[39m\u001B[38;5;124m\"\u001B[39m\u001B[38;5;132;01m{\u001B[39;00msrc_class_dir\u001B[38;5;132;01m}\u001B[39;00m\u001B[38;5;124m/\u001B[39m\u001B[38;5;132;01m{\u001B[39;00mfilename\u001B[38;5;132;01m}\u001B[39;00m\u001B[38;5;124m\"\u001B[39m\n\u001B[0;32m     13\u001B[0m dst_path \u001B[38;5;241m=\u001B[39m \u001B[38;5;124mf\u001B[39m\u001B[38;5;124m\"\u001B[39m\u001B[38;5;132;01m{\u001B[39;00mdst_class_dir\u001B[38;5;132;01m}\u001B[39;00m\u001B[38;5;124m/\u001B[39m\u001B[38;5;132;01m{\u001B[39;00mfilename\u001B[38;5;132;01m}\u001B[39;00m\u001B[38;5;124m\"\u001B[39m\n\u001B[1;32m---> 15\u001B[0m \u001B[43msave_bg_removed\u001B[49m\u001B[43m(\u001B[49m\u001B[43msrc_path\u001B[49m\u001B[43m,\u001B[49m\u001B[43m \u001B[49m\u001B[43mdst_path\u001B[49m\u001B[43m)\u001B[49m\n",
      "Cell \u001B[1;32mIn[17], line 6\u001B[0m, in \u001B[0;36msave_bg_removed\u001B[1;34m(src_path, dst_path)\u001B[0m\n\u001B[0;32m      4\u001B[0m     \u001B[38;5;28mprint\u001B[39m(\u001B[38;5;124mf\u001B[39m\u001B[38;5;124m\"\u001B[39m\u001B[38;5;124mFailed to load: \u001B[39m\u001B[38;5;132;01m{\u001B[39;00msrc_path\u001B[38;5;132;01m}\u001B[39;00m\u001B[38;5;124m\"\u001B[39m)\n\u001B[0;32m      5\u001B[0m     \u001B[38;5;28;01mreturn\u001B[39;00m\n\u001B[1;32m----> 6\u001B[0m result \u001B[38;5;241m=\u001B[39m \u001B[43mrembg_remove\u001B[49m\u001B[43m(\u001B[49m\u001B[43mimage\u001B[49m\u001B[43m)\u001B[49m\n\u001B[0;32m      7\u001B[0m os\u001B[38;5;241m.\u001B[39mmakedirs(os\u001B[38;5;241m.\u001B[39mpath\u001B[38;5;241m.\u001B[39mdirname(dst_path), exist_ok\u001B[38;5;241m=\u001B[39m\u001B[38;5;28;01mTrue\u001B[39;00m)\n\u001B[0;32m      8\u001B[0m cv2\u001B[38;5;241m.\u001B[39mimwrite(dst_path, result)\n",
      "File \u001B[1;32m~\\PycharmProjects\\bc-grape-disease\\env\\lib\\site-packages\\rembg\\bg.py:263\u001B[0m, in \u001B[0;36mremove\u001B[1;34m(data, alpha_matting, alpha_matting_foreground_threshold, alpha_matting_background_threshold, alpha_matting_erode_size, session, only_mask, post_process_mask, bgcolor, force_return_bytes, *args, **kwargs)\u001B[0m\n\u001B[0;32m    260\u001B[0m img \u001B[38;5;241m=\u001B[39m fix_image_orientation(img)\n\u001B[0;32m    262\u001B[0m \u001B[38;5;28;01mif\u001B[39;00m session \u001B[38;5;129;01mis\u001B[39;00m \u001B[38;5;28;01mNone\u001B[39;00m:\n\u001B[1;32m--> 263\u001B[0m     session \u001B[38;5;241m=\u001B[39m new_session(\u001B[38;5;124m\"\u001B[39m\u001B[38;5;124mu2net\u001B[39m\u001B[38;5;124m\"\u001B[39m, \u001B[38;5;241m*\u001B[39margs, \u001B[38;5;241m*\u001B[39m\u001B[38;5;241m*\u001B[39mkwargs)\n\u001B[0;32m    265\u001B[0m masks \u001B[38;5;241m=\u001B[39m session\u001B[38;5;241m.\u001B[39mpredict(img, \u001B[38;5;241m*\u001B[39margs, \u001B[38;5;241m*\u001B[39m\u001B[38;5;241m*\u001B[39mkwargs)\n\u001B[0;32m    266\u001B[0m cutouts \u001B[38;5;241m=\u001B[39m []\n",
      "File \u001B[1;32m~\\PycharmProjects\\bc-grape-disease\\env\\lib\\site-packages\\rembg\\session_factory.py:41\u001B[0m, in \u001B[0;36mnew_session\u001B[1;34m(model_name, *args, **kwargs)\u001B[0m\n\u001B[0;32m     38\u001B[0m     sess_opts\u001B[38;5;241m.\u001B[39minter_op_num_threads \u001B[38;5;241m=\u001B[39m \u001B[38;5;28mint\u001B[39m(os\u001B[38;5;241m.\u001B[39menviron[\u001B[38;5;124m\"\u001B[39m\u001B[38;5;124mOMP_NUM_THREADS\u001B[39m\u001B[38;5;124m\"\u001B[39m])\n\u001B[0;32m     39\u001B[0m     sess_opts\u001B[38;5;241m.\u001B[39mintra_op_num_threads \u001B[38;5;241m=\u001B[39m \u001B[38;5;28mint\u001B[39m(os\u001B[38;5;241m.\u001B[39menviron[\u001B[38;5;124m\"\u001B[39m\u001B[38;5;124mOMP_NUM_THREADS\u001B[39m\u001B[38;5;124m\"\u001B[39m])\n\u001B[1;32m---> 41\u001B[0m \u001B[38;5;28;01mreturn\u001B[39;00m session_class(model_name, sess_opts, \u001B[38;5;241m*\u001B[39margs, \u001B[38;5;241m*\u001B[39m\u001B[38;5;241m*\u001B[39mkwargs)\n",
      "File \u001B[1;32m~\\PycharmProjects\\bc-grape-disease\\env\\lib\\site-packages\\rembg\\sessions\\base.py:27\u001B[0m, in \u001B[0;36mBaseSession.__init__\u001B[1;34m(self, model_name, sess_opts, *args, **kwargs)\u001B[0m\n\u001B[0;32m     23\u001B[0m \u001B[38;5;28;01melse\u001B[39;00m:\n\u001B[0;32m     24\u001B[0m     providers \u001B[38;5;241m=\u001B[39m [\u001B[38;5;124m\"\u001B[39m\u001B[38;5;124mCPUExecutionProvider\u001B[39m\u001B[38;5;124m\"\u001B[39m]\n\u001B[0;32m     26\u001B[0m \u001B[38;5;28mself\u001B[39m\u001B[38;5;241m.\u001B[39minner_session \u001B[38;5;241m=\u001B[39m ort\u001B[38;5;241m.\u001B[39mInferenceSession(\n\u001B[1;32m---> 27\u001B[0m     \u001B[38;5;28mstr\u001B[39m(\u001B[38;5;28mself\u001B[39m\u001B[38;5;241m.\u001B[39m\u001B[38;5;18m__class__\u001B[39m\u001B[38;5;241m.\u001B[39mdownload_models(\u001B[38;5;241m*\u001B[39margs, \u001B[38;5;241m*\u001B[39m\u001B[38;5;241m*\u001B[39mkwargs)),\n\u001B[0;32m     28\u001B[0m     sess_options\u001B[38;5;241m=\u001B[39msess_opts,\n\u001B[0;32m     29\u001B[0m     providers\u001B[38;5;241m=\u001B[39mproviders,\n\u001B[0;32m     30\u001B[0m )\n",
      "File \u001B[1;32m~\\PycharmProjects\\bc-grape-disease\\env\\lib\\site-packages\\rembg\\sessions\\u2net.py:62\u001B[0m, in \u001B[0;36mU2netSession.download_models\u001B[1;34m(cls, *args, **kwargs)\u001B[0m\n\u001B[0;32m     51\u001B[0m \u001B[38;5;250m\u001B[39m\u001B[38;5;124;03m\"\"\"\u001B[39;00m\n\u001B[0;32m     52\u001B[0m \u001B[38;5;124;03mDownloads the U2net model file from a specific URL and saves it.\u001B[39;00m\n\u001B[0;32m     53\u001B[0m \n\u001B[1;32m   (...)\u001B[0m\n\u001B[0;32m     59\u001B[0m \u001B[38;5;124;03m    str: The path to the downloaded model file.\u001B[39;00m\n\u001B[0;32m     60\u001B[0m \u001B[38;5;124;03m\"\"\"\u001B[39;00m\n\u001B[0;32m     61\u001B[0m fname \u001B[38;5;241m=\u001B[39m \u001B[38;5;124mf\u001B[39m\u001B[38;5;124m\"\u001B[39m\u001B[38;5;132;01m{\u001B[39;00m\u001B[38;5;28mcls\u001B[39m\u001B[38;5;241m.\u001B[39mname(\u001B[38;5;241m*\u001B[39margs,\u001B[38;5;250m \u001B[39m\u001B[38;5;241m*\u001B[39m\u001B[38;5;241m*\u001B[39mkwargs)\u001B[38;5;132;01m}\u001B[39;00m\u001B[38;5;124m.onnx\u001B[39m\u001B[38;5;124m\"\u001B[39m\n\u001B[1;32m---> 62\u001B[0m \u001B[43mpooch\u001B[49m\u001B[38;5;241;43m.\u001B[39;49m\u001B[43mretrieve\u001B[49m\u001B[43m(\u001B[49m\n\u001B[0;32m     63\u001B[0m \u001B[43m    \u001B[49m\u001B[38;5;124;43m\"\u001B[39;49m\u001B[38;5;124;43mhttps://github.com/danielgatis/rembg/releases/download/v0.0.0/u2net.onnx\u001B[39;49m\u001B[38;5;124;43m\"\u001B[39;49m\u001B[43m,\u001B[49m\n\u001B[0;32m     64\u001B[0m \u001B[43m    \u001B[49m\u001B[43m(\u001B[49m\n\u001B[0;32m     65\u001B[0m \u001B[43m        \u001B[49m\u001B[38;5;28;43;01mNone\u001B[39;49;00m\n\u001B[0;32m     66\u001B[0m \u001B[43m        \u001B[49m\u001B[38;5;28;43;01mif\u001B[39;49;00m\u001B[43m \u001B[49m\u001B[38;5;28;43mcls\u001B[39;49m\u001B[38;5;241;43m.\u001B[39;49m\u001B[43mchecksum_disabled\u001B[49m\u001B[43m(\u001B[49m\u001B[38;5;241;43m*\u001B[39;49m\u001B[43margs\u001B[49m\u001B[43m,\u001B[49m\u001B[43m \u001B[49m\u001B[38;5;241;43m*\u001B[39;49m\u001B[38;5;241;43m*\u001B[39;49m\u001B[43mkwargs\u001B[49m\u001B[43m)\u001B[49m\n\u001B[0;32m     67\u001B[0m \u001B[43m        \u001B[49m\u001B[38;5;28;43;01melse\u001B[39;49;00m\u001B[43m \u001B[49m\u001B[38;5;124;43m\"\u001B[39;49m\u001B[38;5;124;43mmd5:60024c5c889badc19c04ad937298a77b\u001B[39;49m\u001B[38;5;124;43m\"\u001B[39;49m\n\u001B[0;32m     68\u001B[0m \u001B[43m    \u001B[49m\u001B[43m)\u001B[49m\u001B[43m,\u001B[49m\n\u001B[0;32m     69\u001B[0m \u001B[43m    \u001B[49m\u001B[43mfname\u001B[49m\u001B[38;5;241;43m=\u001B[39;49m\u001B[43mfname\u001B[49m\u001B[43m,\u001B[49m\n\u001B[0;32m     70\u001B[0m \u001B[43m    \u001B[49m\u001B[43mpath\u001B[49m\u001B[38;5;241;43m=\u001B[39;49m\u001B[38;5;28;43mcls\u001B[39;49m\u001B[38;5;241;43m.\u001B[39;49m\u001B[43mu2net_home\u001B[49m\u001B[43m(\u001B[49m\u001B[38;5;241;43m*\u001B[39;49m\u001B[43margs\u001B[49m\u001B[43m,\u001B[49m\u001B[43m \u001B[49m\u001B[38;5;241;43m*\u001B[39;49m\u001B[38;5;241;43m*\u001B[39;49m\u001B[43mkwargs\u001B[49m\u001B[43m)\u001B[49m\u001B[43m,\u001B[49m\n\u001B[0;32m     71\u001B[0m \u001B[43m    \u001B[49m\u001B[43mprogressbar\u001B[49m\u001B[38;5;241;43m=\u001B[39;49m\u001B[38;5;28;43;01mTrue\u001B[39;49;00m\u001B[43m,\u001B[49m\n\u001B[0;32m     72\u001B[0m \u001B[43m\u001B[49m\u001B[43m)\u001B[49m\n\u001B[0;32m     74\u001B[0m \u001B[38;5;28;01mreturn\u001B[39;00m os\u001B[38;5;241m.\u001B[39mpath\u001B[38;5;241m.\u001B[39mjoin(\u001B[38;5;28mcls\u001B[39m\u001B[38;5;241m.\u001B[39mu2net_home(\u001B[38;5;241m*\u001B[39margs, \u001B[38;5;241m*\u001B[39m\u001B[38;5;241m*\u001B[39mkwargs), fname)\n",
      "File \u001B[1;32m~\\PycharmProjects\\bc-grape-disease\\env\\lib\\site-packages\\pooch\\core.py:222\u001B[0m, in \u001B[0;36mretrieve\u001B[1;34m(url, known_hash, fname, path, processor, downloader, progressbar)\u001B[0m\n\u001B[0;32m    219\u001B[0m path \u001B[38;5;241m=\u001B[39m cache_location(path, env\u001B[38;5;241m=\u001B[39m\u001B[38;5;28;01mNone\u001B[39;00m, version\u001B[38;5;241m=\u001B[39m\u001B[38;5;28;01mNone\u001B[39;00m)\n\u001B[0;32m    221\u001B[0m full_path \u001B[38;5;241m=\u001B[39m path\u001B[38;5;241m.\u001B[39mresolve() \u001B[38;5;241m/\u001B[39m fname\n\u001B[1;32m--> 222\u001B[0m action, verb \u001B[38;5;241m=\u001B[39m \u001B[43mdownload_action\u001B[49m\u001B[43m(\u001B[49m\u001B[43mfull_path\u001B[49m\u001B[43m,\u001B[49m\u001B[43m \u001B[49m\u001B[43mknown_hash\u001B[49m\u001B[43m)\u001B[49m\n\u001B[0;32m    224\u001B[0m \u001B[38;5;28;01mif\u001B[39;00m action \u001B[38;5;129;01min\u001B[39;00m (\u001B[38;5;124m\"\u001B[39m\u001B[38;5;124mdownload\u001B[39m\u001B[38;5;124m\"\u001B[39m, \u001B[38;5;124m\"\u001B[39m\u001B[38;5;124mupdate\u001B[39m\u001B[38;5;124m\"\u001B[39m):\n\u001B[0;32m    225\u001B[0m     \u001B[38;5;66;03m# We need to write data, so create the local data directory if it\u001B[39;00m\n\u001B[0;32m    226\u001B[0m     \u001B[38;5;66;03m# doesn't already exist.\u001B[39;00m\n\u001B[0;32m    227\u001B[0m     make_local_storage(path)\n",
      "File \u001B[1;32m~\\PycharmProjects\\bc-grape-disease\\env\\lib\\site-packages\\pooch\\core.py:772\u001B[0m, in \u001B[0;36mdownload_action\u001B[1;34m(path, known_hash)\u001B[0m\n\u001B[0;32m    770\u001B[0m     action \u001B[38;5;241m=\u001B[39m \u001B[38;5;124m\"\u001B[39m\u001B[38;5;124mdownload\u001B[39m\u001B[38;5;124m\"\u001B[39m\n\u001B[0;32m    771\u001B[0m     verb \u001B[38;5;241m=\u001B[39m \u001B[38;5;124m\"\u001B[39m\u001B[38;5;124mDownloading\u001B[39m\u001B[38;5;124m\"\u001B[39m\n\u001B[1;32m--> 772\u001B[0m \u001B[38;5;28;01melif\u001B[39;00m \u001B[38;5;129;01mnot\u001B[39;00m \u001B[43mhash_matches\u001B[49m\u001B[43m(\u001B[49m\u001B[38;5;28;43mstr\u001B[39;49m\u001B[43m(\u001B[49m\u001B[43mpath\u001B[49m\u001B[43m)\u001B[49m\u001B[43m,\u001B[49m\u001B[43m \u001B[49m\u001B[43mknown_hash\u001B[49m\u001B[43m)\u001B[49m:\n\u001B[0;32m    773\u001B[0m     action \u001B[38;5;241m=\u001B[39m \u001B[38;5;124m\"\u001B[39m\u001B[38;5;124mupdate\u001B[39m\u001B[38;5;124m\"\u001B[39m\n\u001B[0;32m    774\u001B[0m     verb \u001B[38;5;241m=\u001B[39m \u001B[38;5;124m\"\u001B[39m\u001B[38;5;124mUpdating\u001B[39m\u001B[38;5;124m\"\u001B[39m\n",
      "File \u001B[1;32m~\\PycharmProjects\\bc-grape-disease\\env\\lib\\site-packages\\pooch\\hashes.py:171\u001B[0m, in \u001B[0;36mhash_matches\u001B[1;34m(fname, known_hash, strict, source)\u001B[0m\n\u001B[0;32m    169\u001B[0m     \u001B[38;5;28;01mreturn\u001B[39;00m \u001B[38;5;28;01mTrue\u001B[39;00m\n\u001B[0;32m    170\u001B[0m algorithm \u001B[38;5;241m=\u001B[39m hash_algorithm(known_hash)\n\u001B[1;32m--> 171\u001B[0m new_hash \u001B[38;5;241m=\u001B[39m \u001B[43mfile_hash\u001B[49m\u001B[43m(\u001B[49m\u001B[43mfname\u001B[49m\u001B[43m,\u001B[49m\u001B[43m \u001B[49m\u001B[43malg\u001B[49m\u001B[38;5;241;43m=\u001B[39;49m\u001B[43malgorithm\u001B[49m\u001B[43m)\u001B[49m\n\u001B[0;32m    172\u001B[0m matches \u001B[38;5;241m=\u001B[39m new_hash\u001B[38;5;241m.\u001B[39mlower() \u001B[38;5;241m==\u001B[39m known_hash\u001B[38;5;241m.\u001B[39msplit(\u001B[38;5;124m\"\u001B[39m\u001B[38;5;124m:\u001B[39m\u001B[38;5;124m\"\u001B[39m)[\u001B[38;5;241m-\u001B[39m\u001B[38;5;241m1\u001B[39m]\u001B[38;5;241m.\u001B[39mlower()\n\u001B[0;32m    173\u001B[0m \u001B[38;5;28;01mif\u001B[39;00m strict \u001B[38;5;129;01mand\u001B[39;00m \u001B[38;5;129;01mnot\u001B[39;00m matches:\n",
      "File \u001B[1;32m~\\PycharmProjects\\bc-grape-disease\\env\\lib\\site-packages\\pooch\\hashes.py:85\u001B[0m, in \u001B[0;36mfile_hash\u001B[1;34m(fname, alg)\u001B[0m\n\u001B[0;32m     83\u001B[0m     buff \u001B[38;5;241m=\u001B[39m fin\u001B[38;5;241m.\u001B[39mread(chunksize)\n\u001B[0;32m     84\u001B[0m     \u001B[38;5;28;01mwhile\u001B[39;00m buff:\n\u001B[1;32m---> 85\u001B[0m         \u001B[43mhasher\u001B[49m\u001B[38;5;241;43m.\u001B[39;49m\u001B[43mupdate\u001B[49m\u001B[43m(\u001B[49m\u001B[43mbuff\u001B[49m\u001B[43m)\u001B[49m\n\u001B[0;32m     86\u001B[0m         buff \u001B[38;5;241m=\u001B[39m fin\u001B[38;5;241m.\u001B[39mread(chunksize)\n\u001B[0;32m     87\u001B[0m \u001B[38;5;28;01mreturn\u001B[39;00m hasher\u001B[38;5;241m.\u001B[39mhexdigest()\n",
      "\u001B[1;31mKeyboardInterrupt\u001B[0m: "
     ]
    }
   ],
   "source": [
    "for dataset in DATASETS:\n",
    "    for class_name in CLASSES:\n",
    "        src_class_dir = f\"{SOURCE_DIR}/{dataset}/{class_name}\"\n",
    "        dst_class_dir = f\"{TARGET_DIR}/{dataset}/{class_name}\"\n",
    "\n",
    "        if not os.path.exists(src_class_dir):\n",
    "            print(f\"Skipping missing directory: {src_class_dir}\")\n",
    "            continue\n",
    "\n",
    "        for filename in os.listdir(src_class_dir):\n",
    "            if filename.lower().endswith((\".jpg\", \".jpeg\", \".png\")):\n",
    "                src_path = f\"{src_class_dir}/{filename}\"\n",
    "                dst_path = f\"{dst_class_dir}/{filename}\"\n",
    "\n",
    "                save_bg_removed(src_path, dst_path)"
   ],
   "metadata": {
    "collapsed": false,
    "ExecuteTime": {
     "end_time": "2025-04-10T10:49:27.801908100Z",
     "start_time": "2025-04-10T10:47:00.889532300Z"
    }
   }
  }
 ],
 "metadata": {
  "kernelspec": {
   "display_name": "Python 3",
   "language": "python",
   "name": "python3"
  },
  "language_info": {
   "codemirror_mode": {
    "name": "ipython",
    "version": 2
   },
   "file_extension": ".py",
   "mimetype": "text/x-python",
   "name": "python",
   "nbconvert_exporter": "python",
   "pygments_lexer": "ipython2",
   "version": "2.7.6"
  }
 },
 "nbformat": 4,
 "nbformat_minor": 0
}
