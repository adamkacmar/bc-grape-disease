{
 "cells": [
  {
   "cell_type": "markdown",
   "metadata": {
    "collapsed": false
   },
   "source": [
    "### Imports"
   ]
  },
  {
   "cell_type": "code",
   "execution_count": 2,
   "metadata": {
    "ExecuteTime": {
     "end_time": "2025-04-10T10:44:48.000410600Z",
     "start_time": "2025-04-10T10:44:47.980292700Z"
    },
    "collapsed": false
   },
   "outputs": [],
   "source": [
    "import os\n",
    "import cv2\n",
    "from rembg import remove as rembg_remove"
   ]
  },
  {
   "cell_type": "markdown",
   "metadata": {
    "collapsed": false
   },
   "source": [
    "### Global Variables"
   ]
  },
  {
   "cell_type": "code",
   "execution_count": 1,
   "metadata": {
    "ExecuteTime": {
     "end_time": "2025-04-10T10:46:56.319090700Z",
     "start_time": "2025-04-10T10:46:56.300715300Z"
    },
    "collapsed": false
   },
   "outputs": [],
   "source": [
    "SOURCE_DIR = \"../dataset\"\n",
    "TARGET_DIR = \"../dataset_bg_removed\"\n",
    "DATASETS = [\"train\", \"test\"]\n",
    "CLASSES = [\"Black Rot\", \"ESCA\", \"Healthy\", \"Leaf Blight\"]"
   ]
  },
  {
   "cell_type": "markdown",
   "metadata": {
    "collapsed": false
   },
   "source": [
    "### Functions"
   ]
  },
  {
   "cell_type": "code",
   "execution_count": 4,
   "metadata": {
    "ExecuteTime": {
     "end_time": "2025-04-10T10:46:59.133802200Z",
     "start_time": "2025-04-10T10:46:59.127437800Z"
    },
    "collapsed": false
   },
   "outputs": [],
   "source": [
    "def save_bg_removed(src_path, dst_path):\n",
    "    image = cv2.imread(src_path)\n",
    "    if image is None:\n",
    "        print(f\"Failed to load: {src_path}\")\n",
    "        return\n",
    "    result = rembg_remove(image)\n",
    "    os.makedirs(os.path.dirname(dst_path), exist_ok=True)\n",
    "    cv2.imwrite(dst_path, result)\n",
    "    print(f\"Saved: {dst_path}\")"
   ]
  },
  {
   "cell_type": "code",
   "execution_count": null,
   "metadata": {
    "ExecuteTime": {
     "end_time": "2025-04-10T10:49:27.801908100Z",
     "start_time": "2025-04-10T10:47:00.889532300Z"
    },
    "collapsed": false
   },
   "outputs": [],
   "source": [
    "for dataset in DATASETS:\n",
    "    for class_name in CLASSES:\n",
    "        src_class_dir = f\"{SOURCE_DIR}/{dataset}/{class_name}\"\n",
    "        dst_class_dir = f\"{TARGET_DIR}/{dataset}/{class_name}\"\n",
    "\n",
    "        if not os.path.exists(src_class_dir):\n",
    "            print(f\"Skipping missing directory: {src_class_dir}\")\n",
    "            continue\n",
    "\n",
    "        for filename in os.listdir(src_class_dir):\n",
    "            if filename.lower().endswith((\".jpg\", \".jpeg\", \".png\")):\n",
    "                src_path = f\"{src_class_dir}/{filename}\"\n",
    "                dst_path = f\"{dst_class_dir}/{filename}\"\n",
    "\n",
    "                save_bg_removed(src_path, dst_path)"
   ]
  }
 ],
 "metadata": {
  "kernelspec": {
   "display_name": "env",
   "language": "python",
   "name": "python3"
  },
  "language_info": {
   "codemirror_mode": {
    "name": "ipython",
    "version": 3
   },
   "file_extension": ".py",
   "mimetype": "text/x-python",
   "name": "python",
   "nbconvert_exporter": "python",
   "pygments_lexer": "ipython3",
   "version": "3.12.10"
  }
 },
 "nbformat": 4,
 "nbformat_minor": 0
}
